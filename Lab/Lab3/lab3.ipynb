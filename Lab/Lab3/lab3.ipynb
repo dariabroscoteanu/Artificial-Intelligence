{
  "cells": [
    {
      "cell_type": "markdown",
      "metadata": {
        "id": "4KB6d3U4XhPI"
      },
      "source": [
        "# Inteligenta Artificiala\n",
        "# Laboratorul 2\n",
        "# Metoda celor mai apropiati vecini"
      ]
    },
    {
      "cell_type": "markdown",
      "metadata": {
        "id": "WG4LSTnnXhPJ"
      },
      "source": [
        "### Imports"
      ]
    },
    {
      "cell_type": "code",
      "execution_count": 46,
      "metadata": {
        "id": "bL4SVxagXhPL"
      },
      "outputs": [],
      "source": [
        "import os\n",
        "import matplotlib.pyplot as plt\n",
        "import numpy as np \n",
        "import math\n",
        "from tqdm.notebook import tqdm"
      ]
    },
    {
      "cell_type": "markdown",
      "metadata": {
        "id": "1he7w2OxRQjO"
      },
      "source": [
        "### Download and unzip data"
      ]
    },
    {
      "cell_type": "code",
      "execution_count": 49,
      "metadata": {
        "colab": {
          "base_uri": "https://localhost:8080/"
        },
        "id": "nGnSqLyiRQjP",
        "outputId": "efdcb992-da06-457e-bb1c-ba88d4e94aec"
      },
      "outputs": [
        {
          "output_type": "stream",
          "name": "stdout",
          "text": [
            "--2022-02-28 20:48:07--  https://fmi-unibuc-ia.github.io/ia/Data/data_MNIST.zip\n",
            "Resolving fmi-unibuc-ia.github.io (fmi-unibuc-ia.github.io)... 185.199.108.153, 185.199.109.153, 185.199.110.153, ...\n",
            "Connecting to fmi-unibuc-ia.github.io (fmi-unibuc-ia.github.io)|185.199.108.153|:443... connected.\n",
            "HTTP request sent, awaiting response... 200 OK\n",
            "Length: 629644 (615K) [application/zip]\n",
            "Saving to: ‘data_MNIST.zip.1’\n",
            "\n",
            "\rdata_MNIST.zip.1      0%[                    ]       0  --.-KB/s               \rdata_MNIST.zip.1    100%[===================>] 614.89K  --.-KB/s    in 0.03s   \n",
            "\n",
            "2022-02-28 20:48:07 (22.1 MB/s) - ‘data_MNIST.zip.1’ saved [629644/629644]\n",
            "\n",
            "Archive:  data_MNIST.zip\n",
            "replace ./data/test_images.txt? [y]es, [n]o, [A]ll, [N]one, [r]ename: y\n",
            "  inflating: ./data/test_images.txt  \n",
            "replace ./data/test_labels.txt? [y]es, [n]o, [A]ll, [N]one, [r]ename: y\n",
            "  inflating: ./data/test_labels.txt  \n",
            "replace ./data/train_images.txt? [y]es, [n]o, [A]ll, [N]one, [r]ename: y\n",
            "  inflating: ./data/train_images.txt  \n",
            "replace ./data/train_labels.txt? [y]es, [n]o, [A]ll, [N]one, [r]ename: y\n",
            "  inflating: ./data/train_labels.txt  \n"
          ]
        }
      ],
      "source": [
        "!wget https://fmi-unibuc-ia.github.io/ia/Data/data_MNIST.zip\n",
        "!unzip data_MNIST.zip -d ./"
      ]
    },
    {
      "cell_type": "markdown",
      "metadata": {
        "id": "LhToCthgRQjP"
      },
      "source": [
        "### Load data"
      ]
    },
    {
      "cell_type": "code",
      "execution_count": 50,
      "metadata": {
        "id": "DxmoXUS_RQjQ"
      },
      "outputs": [],
      "source": [
        "train_images = np.loadtxt('./data/train_images.txt')\n",
        "train_labels = np.int32(np.loadtxt('./data/train_labels.txt'))\n",
        "\n",
        "test_images = np.loadtxt('./data/test_images.txt')\n",
        "test_labels = np.int32(np.loadtxt('./data/test_labels.txt'))\n"
      ]
    },
    {
      "cell_type": "markdown",
      "metadata": {
        "id": "fMU4FdUuXhPR"
      },
      "source": [
        "# Execises"
      ]
    },
    {
      "cell_type": "markdown",
      "source": [
        "### Crearea clasei"
      ],
      "metadata": {
        "id": "_8tTMm1YUYzt"
      }
    },
    {
      "cell_type": "code",
      "source": [
        "class KnnClasifier:\n",
        "    def __init__(self, train_images, train_labels): \n",
        "        self.train_images = train_images \n",
        "        self.train_labels = train_labels\n",
        "        \n",
        "    def classify_image(self, test_image, num_neighbors=3, metric='l2'):\n",
        "      # calculez distantele\n",
        "        if metric.lower() == 'l2':\n",
        "            distances = np.sqrt(np.sum(((self.train_images - test_image) ** 2),axis=1))\n",
        "        elif metric.lower() == 'l1':\n",
        "            distances = np.sum(np.abs(self.train_images - test_image), axis=1)\n",
        "        else:\n",
        "            raise Exception(\"Metric not implemented\")\n",
        "        \n",
        "        # sortam distantele - dar avem nevoie doar de indicii acelor pozitii\n",
        "        sorted_idx = distances.argsort()\n",
        "\n",
        "        # pastram doar primii k vecini\n",
        "        sorted_idx = sorted_idx[:num_neighbors]\n",
        "\n",
        "        # extragem label-urile acelor k vecini\n",
        "        voting_labels = self.train_labels[sorted_idx]\n",
        "        \n",
        "        return np.bincount(voting_labels).argmax()\n",
        "    \n",
        "    def classify_images(self, test_images, num_neighbors=3, metric='l2'):\n",
        "        predicted_labels = [self.classify_image(image, num_neighbors, metric) for image in test_images]\n",
        "        return np.array(predicted_labels)"
      ],
      "metadata": {
        "id": "HypKvXNe_UUE"
      },
      "execution_count": 103,
      "outputs": []
    },
    {
      "cell_type": "code",
      "source": [
        "def accuracy_score(labels, predicted_labels):\n",
        "    return np.mean(labels == predicted_labels)"
      ],
      "metadata": {
        "id": "3-MrSw8p_uhJ"
      },
      "execution_count": 87,
      "outputs": []
    },
    {
      "cell_type": "code",
      "source": [
        "model = KnnClasifier(train_images, train_labels)"
      ],
      "metadata": {
        "id": "UwG5XnHOFcFm"
      },
      "execution_count": 105,
      "outputs": []
    },
    {
      "cell_type": "code",
      "source": [
        "predictions = model.classify_images(test_images, num_neighbors=3, metric=\"l2\")"
      ],
      "metadata": {
        "id": "OdHEDBQgIwu9"
      },
      "execution_count": 90,
      "outputs": []
    },
    {
      "cell_type": "code",
      "source": [
        "acc = accuracy_score(test_labels, predictions)\n",
        "with open(\"predictii_3nn_l2_mnist.txt\", \"w\") as f:\n",
        "  f.write(f\"Accuracy is {acc}\\n\")\n"
      ],
      "metadata": {
        "id": "d7m0NholB70n"
      },
      "execution_count": 93,
      "outputs": []
    },
    {
      "cell_type": "code",
      "source": [
        "acc2 = []\n",
        "for x in range(1, 10, 2):\n",
        "  predicted_labels = model.classify_images(test_images, num_neighbors=x, metric=\"l2\")\n",
        "  acc2.append(accuracy_score(test_labels, predicted_labels))\n",
        "acc2"
      ],
      "metadata": {
        "colab": {
          "base_uri": "https://localhost:8080/"
        },
        "id": "2421nYvhNZvK",
        "outputId": "56e6c44a-7436-4203-deba-1bed5151b0cc"
      },
      "execution_count": 114,
      "outputs": [
        {
          "output_type": "execute_result",
          "data": {
            "text/plain": [
              "[0.884, 0.898, 0.896, 0.88, 0.88]"
            ]
          },
          "metadata": {},
          "execution_count": 114
        }
      ]
    },
    {
      "cell_type": "code",
      "source": [
        "acc1 = []\n",
        "for x in range(1, 10, 2):\n",
        "  predicted_labels = model.classify_images(test_images, num_neighbors=x, metric=\"l1\")\n",
        "  acc1.append(accuracy_score(test_labels, predicted_labels))\n",
        "acc1"
      ],
      "metadata": {
        "colab": {
          "base_uri": "https://localhost:8080/"
        },
        "id": "yE79Z1EnLhNW",
        "outputId": "0bff9e5e-45a7-4dbd-b9ac-b332247e6f23"
      },
      "execution_count": 115,
      "outputs": [
        {
          "output_type": "execute_result",
          "data": {
            "text/plain": [
              "[0.88, 0.884, 0.868, 0.864, 0.864]"
            ]
          },
          "metadata": {},
          "execution_count": 115
        }
      ]
    },
    {
      "cell_type": "code",
      "source": [
        "with open(\"acuratete_l2.txt\", \"w\") as f:\n",
        "  for x in acc2:\n",
        "    f.write(f\"{x} \")\n",
        "  f.write(\"\\n\")\n",
        "  for x in acc1:\n",
        "    f.write(f\"{x} \")"
      ],
      "metadata": {
        "id": "2ZkFU6fROlAR"
      },
      "execution_count": 117,
      "outputs": []
    },
    {
      "cell_type": "code",
      "source": [
        "plt.plot([1,3,5,7,9], acc2)\n",
        "plt.show()"
      ],
      "metadata": {
        "colab": {
          "base_uri": "https://localhost:8080/",
          "height": 265
        },
        "id": "OSOrXw6tLtZK",
        "outputId": "0f741119-102c-49c4-9ab0-02ee0d157c93"
      },
      "execution_count": 96,
      "outputs": [
        {
          "output_type": "display_data",
          "data": {
            "image/png": "[encoded data removed]",
            "text/plain": [
              "<Figure size 432x288 with 1 Axes>"
            ]
          },
          "metadata": {
            "needs_background": "light"
          }
        }
      ]
    },
    {
      "cell_type": "code",
      "source": [
        "plt.plot([1,3,5,7,9], acc1)\n",
        "plt.show()"
      ],
      "metadata": {
        "colab": {
          "base_uri": "https://localhost:8080/",
          "height": 269
        },
        "id": "JIbl-G-_NT9-",
        "outputId": "7ab72275-88e6-4aa3-b5ab-00fe3c06bcc4"
      },
      "execution_count": 118,
      "outputs": [
        {
          "output_type": "display_data",
          "data": {
            "image/png": "[encoded data removed]",
            "text/plain": [
              "<Figure size 432x288 with 1 Axes>"
            ]
          },
          "metadata": {
            "needs_background": "light"
          }
        }
      ]
    }
  ],
  "metadata": {
    "colab": {
      "name": "lab3",
      "provenance": []
    },
    "kernelspec": {
      "display_name": "Python 3 (ipykernel)",
      "language": "python",
      "name": "python3"
    },
    "language_info": {
      "codemirror_mode": {
        "name": "ipython",
        "version": 3
      },
      "file_extension": ".py",
      "mimetype": "text/x-python",
      "name": "python",
      "nbconvert_exporter": "python",
      "pygments_lexer": "ipython3",
      "version": "3.8.12"
    }
  },
  "nbformat": 4,
  "nbformat_minor": 0
}