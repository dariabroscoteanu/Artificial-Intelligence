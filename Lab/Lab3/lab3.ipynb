{
 "cells": [
  {
   "cell_type": "markdown",
   "metadata": {
    "id": "4KB6d3U4XhPI"
   },
   "source": [
    "# Inteligenta Artificiala\n",
    "# Laboratorul 3\n",
    "# Metoda celor mai apropiati vecini"
   ]
  },
  {
   "cell_type": "markdown",
   "metadata": {
    "id": "WG4LSTnnXhPJ"
   },
   "source": [
    "### Imports"
   ]
  },
  {
   "cell_type": "code",
   "execution_count": 1,
   "metadata": {
    "id": "bL4SVxagXhPL"
   },
   "outputs": [
    {
     "ename": "ModuleNotFoundError",
     "evalue": "No module named 'matplotlib'",
     "output_type": "error",
     "traceback": [
      "\u001b[1;31m---------------------------------------------------------------------------\u001b[0m",
      "\u001b[1;31mModuleNotFoundError\u001b[0m                       Traceback (most recent call last)",
      "\u001b[1;32mc:\\Users\\Daria\\Downloads\\AI_Lab3_KNN (1) (1).ipynb Cell 3'\u001b[0m in \u001b[0;36m<cell line: 2>\u001b[1;34m()\u001b[0m\n\u001b[0;32m      <a href='vscode-notebook-cell:/c%3A/Users/Daria/Downloads/AI_Lab3_KNN%20%281%29%20%281%29.ipynb#ch0000002?line=0'>1</a>\u001b[0m \u001b[39mimport\u001b[39;00m \u001b[39mos\u001b[39;00m\n\u001b[1;32m----> <a href='vscode-notebook-cell:/c%3A/Users/Daria/Downloads/AI_Lab3_KNN%20%281%29%20%281%29.ipynb#ch0000002?line=1'>2</a>\u001b[0m \u001b[39mimport\u001b[39;00m \u001b[39mmatplotlib\u001b[39;00m\u001b[39m.\u001b[39;00m\u001b[39mpyplot\u001b[39;00m \u001b[39mas\u001b[39;00m \u001b[39mplt\u001b[39;00m\n\u001b[0;32m      <a href='vscode-notebook-cell:/c%3A/Users/Daria/Downloads/AI_Lab3_KNN%20%281%29%20%281%29.ipynb#ch0000002?line=2'>3</a>\u001b[0m \u001b[39mimport\u001b[39;00m \u001b[39mnumpy\u001b[39;00m \u001b[39mas\u001b[39;00m \u001b[39mnp\u001b[39;00m \n\u001b[0;32m      <a href='vscode-notebook-cell:/c%3A/Users/Daria/Downloads/AI_Lab3_KNN%20%281%29%20%281%29.ipynb#ch0000002?line=3'>4</a>\u001b[0m \u001b[39mimport\u001b[39;00m \u001b[39mmath\u001b[39;00m\n",
      "\u001b[1;31mModuleNotFoundError\u001b[0m: No module named 'matplotlib'"
     ]
    }
   ],
   "source": [
    "import os\n",
    "import matplotlib.pyplot as plt\n",
    "import numpy as np \n",
    "import math\n",
    "from tqdm.notebook import tqdm"
   ]
  },
  {
   "cell_type": "markdown",
   "metadata": {
    "id": "1he7w2OxRQjO"
   },
   "source": [
    "### Download and unzip data"
   ]
  },
  {
   "cell_type": "code",
   "execution_count": 3,
   "metadata": {
    "colab": {
     "base_uri": "https://localhost:8080/"
    },
    "id": "nGnSqLyiRQjP",
    "outputId": "445f1924-c25b-4050-82dc-e0f608621fe4"
   },
   "outputs": [
    {
     "name": "stdout",
     "output_type": "stream",
     "text": [
      "--2022-02-28 17:03:30--  https://fmi-unibuc-ia.github.io/ia/Data/data_MNIST.zip\n",
      "Resolving fmi-unibuc-ia.github.io (fmi-unibuc-ia.github.io)... 185.199.108.153, 185.199.109.153, 185.199.110.153, ...\n",
      "Connecting to fmi-unibuc-ia.github.io (fmi-unibuc-ia.github.io)|185.199.108.153|:443... connected.\n",
      "HTTP request sent, awaiting response... 200 OK\n",
      "Length: 629644 (615K) [application/zip]\n",
      "Saving to: ‘data_MNIST.zip.1’\n",
      "\n",
      "data_MNIST.zip.1    100%[===================>] 614.89K  --.-KB/s    in 0.02s   \n",
      "\n",
      "2022-02-28 17:03:31 (36.8 MB/s) - ‘data_MNIST.zip.1’ saved [629644/629644]\n",
      "\n",
      "Archive:  data_MNIST.zip\n",
      "  inflating: ./data/test_images.txt  \n",
      "  inflating: ./data/test_labels.txt  \n",
      "  inflating: ./data/train_images.txt  \n",
      "  inflating: ./data/train_labels.txt  \n"
     ]
    }
   ],
   "source": [
    "!wget https://fmi-unibuc-ia.github.io/ia/Data/data_MNIST.zip\n",
    "!unzip data_MNIST.zip -d ./"
   ]
  },
  {
   "cell_type": "markdown",
   "metadata": {
    "id": "LhToCthgRQjP"
   },
   "source": [
    "### Load data"
   ]
  },
  {
   "cell_type": "code",
   "execution_count": 5,
   "metadata": {
    "id": "DxmoXUS_RQjQ"
   },
   "outputs": [],
   "source": [
    "train_images = np.loadtxt('./data/train_images.txt')\n",
    "train_labels = np.loadtxt('./data/train_labels.txt')\n",
    "\n",
    "test_images = np.loadtxt('./data/test_images.txt')\n",
    "test_labels = np.loadtxt('./data/test_labels.txt')\n"
   ]
  },
  {
   "cell_type": "markdown",
   "metadata": {
    "id": "fMU4FdUuXhPR"
   },
   "source": [
    "# Execises"
   ]
  },
  {
   "cell_type": "markdown",
   "metadata": {
    "id": "_8tTMm1YUYzt"
   },
   "source": [
    "### Crearea clasei"
   ]
  },
  {
   "cell_type": "code",
   "execution_count": 25,
   "metadata": {
    "id": "mk4KvGjvU2wq"
   },
   "outputs": [],
   "source": [
    "model = KnnClassifier(train_images=train_images, train_labels=train_labels)"
   ]
  },
  {
   "cell_type": "code",
   "execution_count": 2,
   "metadata": {
    "id": "mOGD4roHTJkV"
   },
   "outputs": [
    {
     "ename": "SyntaxError",
     "evalue": "invalid syntax (Temp/ipykernel_25740/3223735583.py, line 12)",
     "output_type": "error",
     "traceback": [
      "\u001b[1;36m  File \u001b[1;32m\"C:\\Users\\Daria\\AppData\\Local\\Temp/ipykernel_25740/3223735583.py\"\u001b[1;36m, line \u001b[1;32m12\u001b[0m\n\u001b[1;33m    else:\u001b[0m\n\u001b[1;37m    ^\u001b[0m\n\u001b[1;31mSyntaxError\u001b[0m\u001b[1;31m:\u001b[0m invalid syntax\n"
     ]
    }
   ],
   "source": [
    "class KnnClassifier:\n",
    "    def __init__(self, train_images, train_labels):\n",
    "         self.train_images = train_images\n",
    "         self.train_labels = train_labels\n",
    "\n",
    "    def classify_image(self, test_image, num_neighbors = 3, metric ='l2'):\n",
    "      # calculam distantele\n",
    "      if metric.lower() == 'l2':\n",
    "            distances = np.sqrt(np.sum(((self.train_images - test_image) ** 2),axis=1))\n",
    "      elif metric.lower() == 'l1':\n",
    "            distances = np.sum(np.abs((self.train_images - test_image), axis = 1)\n",
    "      else:\n",
    "            raise NotImplementedError(f\"Metrica {metric} nu este implementata\")\n",
    "\n",
    "      # sortam distantele - dar avem nevoie doar de indicii acelor pozitii\n",
    "      sorted_idx = np.argsort(distances)\n",
    "\n",
    "      # pastram doar primii k vecini\n",
    "      sorted_idx = sorted_idx[:num_neighbors]\n",
    "\n",
    "      # extragem label-urile acelor k vecini\n",
    "      voting_labels = self.train_images[sorted_idx]\n",
    "\n",
    "      # predictii\n",
    "       prediction = np.argmax(np.bincount(voting_labels))\n",
    "\n",
    "       return prediction\n",
    "                               \n",
    "    def classify_images(self, test_images, num_neighbors = 3, metric ='l2'):\n",
    "       predictions = [self.classify_image(image, num_neighbors, metric) for image in test_images]\n",
    "       return np.array(predictions)\n",
    "        \n"
   ]
  },
  {
   "cell_type": "code",
   "execution_count": 26,
   "metadata": {
    "colab": {
     "base_uri": "https://localhost:8080/"
    },
    "id": "ZJFQAonxVG5S",
    "outputId": "11146cb0-d1fd-4831-a9f2-d0cf12091499"
   },
   "outputs": [
    {
     "data": {
      "text/plain": [
       "array([[0., 0., 0., ..., 0., 0., 0.],\n",
       "       [0., 0., 0., ..., 0., 0., 0.],\n",
       "       [0., 0., 0., ..., 0., 0., 0.],\n",
       "       ...,\n",
       "       [0., 0., 0., ..., 0., 0., 0.],\n",
       "       [0., 0., 0., ..., 0., 0., 0.],\n",
       "       [0., 0., 0., ..., 0., 0., 0.]])"
      ]
     },
     "execution_count": 26,
     "metadata": {},
     "output_type": "execute_result"
    }
   ],
   "source": [
    "model.train_images"
   ]
  },
  {
   "cell_type": "code",
   "execution_count": 31,
   "metadata": {
    "colab": {
     "base_uri": "https://localhost:8080/",
     "height": 356
    },
    "id": "lLLXscrHYcze",
    "outputId": "58da2916-5580-48e6-b142-1889239b90aa"
   },
   "outputs": [
    {
     "ename": "ValueError",
     "evalue": "ignored",
     "output_type": "error",
     "traceback": [
      "\u001b[0;31m---------------------------------------------------------------------------\u001b[0m",
      "\u001b[0;31mValueError\u001b[0m                                Traceback (most recent call last)",
      "\u001b[0;32m<ipython-input-31-e5e17aa353b1>\u001b[0m in \u001b[0;36m<module>\u001b[0;34m()\u001b[0m\n\u001b[0;32m----> 1\u001b[0;31m \u001b[0mmodel\u001b[0m\u001b[0;34m.\u001b[0m\u001b[0mclassify_image\u001b[0m\u001b[0;34m(\u001b[0m\u001b[0mtest_images\u001b[0m\u001b[0;34m[\u001b[0m\u001b[0;36m0\u001b[0m\u001b[0;34m]\u001b[0m\u001b[0;34m,\u001b[0m \u001b[0;36m3\u001b[0m\u001b[0;34m,\u001b[0m \u001b[0;34m'l2'\u001b[0m\u001b[0;34m)\u001b[0m\u001b[0;34m\u001b[0m\u001b[0;34m\u001b[0m\u001b[0m\n\u001b[0m",
      "\u001b[0;32m<ipython-input-24-57d2c2b441b9>\u001b[0m in \u001b[0;36mclassify_image\u001b[0;34m(self, test_image, num_neighbors, metric)\u001b[0m\n\u001b[1;32m      6\u001b[0m     \u001b[0;32mdef\u001b[0m \u001b[0mclassify_image\u001b[0m\u001b[0;34m(\u001b[0m\u001b[0mself\u001b[0m\u001b[0;34m,\u001b[0m \u001b[0mtest_image\u001b[0m\u001b[0;34m,\u001b[0m \u001b[0mnum_neighbors\u001b[0m \u001b[0;34m=\u001b[0m \u001b[0;36m3\u001b[0m\u001b[0;34m,\u001b[0m \u001b[0mmetric\u001b[0m \u001b[0;34m=\u001b[0m\u001b[0;34m'l2'\u001b[0m\u001b[0;34m)\u001b[0m\u001b[0;34m:\u001b[0m\u001b[0;34m\u001b[0m\u001b[0;34m\u001b[0m\u001b[0m\n\u001b[1;32m      7\u001b[0m       \u001b[0;32mif\u001b[0m \u001b[0mmetric\u001b[0m\u001b[0;34m.\u001b[0m\u001b[0mlower\u001b[0m\u001b[0;34m(\u001b[0m\u001b[0;34m)\u001b[0m \u001b[0;34m==\u001b[0m \u001b[0;34m'l2'\u001b[0m\u001b[0;34m:\u001b[0m\u001b[0;34m\u001b[0m\u001b[0;34m\u001b[0m\u001b[0m\n\u001b[0;32m----> 8\u001b[0;31m         \u001b[0mdistances\u001b[0m \u001b[0;34m=\u001b[0m \u001b[0mnp\u001b[0m\u001b[0;34m.\u001b[0m\u001b[0msqrt\u001b[0m\u001b[0;34m(\u001b[0m\u001b[0mnp\u001b[0m\u001b[0;34m.\u001b[0m\u001b[0msum\u001b[0m\u001b[0;34m(\u001b[0m\u001b[0mnp\u001b[0m\u001b[0;34m.\u001b[0m\u001b[0mpower\u001b[0m\u001b[0;34m(\u001b[0m\u001b[0mself\u001b[0m\u001b[0;34m.\u001b[0m\u001b[0mtrain_images\u001b[0m \u001b[0;34m-\u001b[0m \u001b[0mtest_images\u001b[0m\u001b[0;34m,\u001b[0m \u001b[0;36m2\u001b[0m\u001b[0;34m)\u001b[0m\u001b[0;34m,\u001b[0m \u001b[0maxis\u001b[0m\u001b[0;34m=\u001b[0m\u001b[0;36m1\u001b[0m\u001b[0;34m)\u001b[0m\u001b[0;34m)\u001b[0m\u001b[0;34m\u001b[0m\u001b[0;34m\u001b[0m\u001b[0m\n\u001b[0m\u001b[1;32m      9\u001b[0m       \u001b[0;32melif\u001b[0m \u001b[0mmetric\u001b[0m\u001b[0;34m.\u001b[0m\u001b[0mlower\u001b[0m\u001b[0;34m(\u001b[0m\u001b[0;34m)\u001b[0m \u001b[0;34m==\u001b[0m \u001b[0;34m'l1'\u001b[0m\u001b[0;34m:\u001b[0m\u001b[0;34m\u001b[0m\u001b[0;34m\u001b[0m\u001b[0m\n\u001b[1;32m     10\u001b[0m         \u001b[0;32mpass\u001b[0m\u001b[0;34m\u001b[0m\u001b[0;34m\u001b[0m\u001b[0m\n",
      "\u001b[0;31mValueError\u001b[0m: operands could not be broadcast together with shapes (1000,784) (500,784) "
     ]
    }
   ],
   "source": [
    "model.classify_image(test_images[0], 3, 'l2')"
   ]
  }
 ],
 "metadata": {
  "colab": {
   "name": "AI_Lab3_KNN.ipynb",
   "provenance": []
  },
  "kernelspec": {
   "display_name": "Python 3 (ipykernel)",
   "language": "python",
   "name": "python3"
  },
  "language_info": {
   "codemirror_mode": {
    "name": "ipython",
    "version": 3
   },
   "file_extension": ".py",
   "mimetype": "text/x-python",
   "name": "python",
   "nbconvert_exporter": "python",
   "pygments_lexer": "ipython3",
   "version": "3.8.10"
  }
 },
 "nbformat": 4,
 "nbformat_minor": 1
}
