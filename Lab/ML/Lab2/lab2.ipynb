{
  "cells": [
    {
      "cell_type": "markdown",
      "metadata": {
        "id": "4KB6d3U4XhPI"
      },
      "source": [
        "# Inteligenta Artificiala\n",
        "# Laboratorul 2\n",
        "# Naive Bayes\n",
        "# P(C | X ) = (P(X | C) * P(C)) / P(X)"
      ]
    },
    {
      "cell_type": "markdown",
      "metadata": {
        "id": "WG4LSTnnXhPJ"
      },
      "source": [
        "### Imports"
      ]
    },
    {
      "cell_type": "code",
      "execution_count": 24,
      "metadata": {
        "id": "bL4SVxagXhPL"
      },
      "outputs": [],
      "source": [
        "import os\n",
        "import matplotlib.pyplot as plt\n",
        "import numpy as np \n",
        "from sklearn.naive_bayes import MultinomialNB\n",
        "from tqdm import tqdm"
      ]
    },
    {
      "cell_type": "markdown",
      "metadata": {
        "id": "Y8fLlWtEbdZh"
      },
      "source": [
        "### Download and unzip data"
      ]
    },
    {
      "cell_type": "code",
      "execution_count": 3,
      "metadata": {
        "id": "OLsk8WtGbdZi",
        "colab": {
          "base_uri": "https://localhost:8080/"
        },
        "outputId": "26f585dd-c60a-4abb-93fb-d208baa0d0cb"
      },
      "outputs": [
        {
          "output_type": "stream",
          "name": "stdout",
          "text": [
            "--2022-03-01 09:02:17--  https://fmi-unibuc-ia.github.io/ia/Data/data_MNIST.zip\n",
            "Resolving fmi-unibuc-ia.github.io (fmi-unibuc-ia.github.io)... 185.199.108.153, 185.199.109.153, 185.199.110.153, ...\n",
            "Connecting to fmi-unibuc-ia.github.io (fmi-unibuc-ia.github.io)|185.199.108.153|:443... connected.\n",
            "HTTP request sent, awaiting response... 200 OK\n",
            "Length: 629644 (615K) [application/zip]\n",
            "Saving to: ‘data_MNIST.zip’\n",
            "\n",
            "\rdata_MNIST.zip        0%[                    ]       0  --.-KB/s               \rdata_MNIST.zip      100%[===================>] 614.89K  --.-KB/s    in 0.04s   \n",
            "\n",
            "2022-03-01 09:02:17 (13.9 MB/s) - ‘data_MNIST.zip’ saved [629644/629644]\n",
            "\n",
            "Archive:  data_MNIST.zip\n",
            "replace data/test_images.txt? [y]es, [n]o, [A]ll, [N]one, [r]ename: y\n",
            "  inflating: data/test_images.txt    \n",
            "replace data/test_labels.txt? [y]es, [n]o, [A]ll, [N]one, [r]ename: y\n",
            "  inflating: data/test_labels.txt    \n",
            "replace data/train_images.txt? [y]es, [n]o, [A]ll, [N]one, [r]ename: y\n",
            "  inflating: data/train_images.txt   \n",
            "replace data/train_labels.txt? [y]es, [n]o, [A]ll, [N]one, [r]ename: y\n",
            "  inflating: data/train_labels.txt   \n"
          ]
        }
      ],
      "source": [
        "!wget https://fmi-unibuc-ia.github.io/ia/Data/data_MNIST.zip\n",
        "!unzip data_MNIST.zip"
      ]
    },
    {
      "cell_type": "markdown",
      "metadata": {
        "id": "Rn0fYVB4bdZj"
      },
      "source": [
        "### Load data"
      ]
    },
    {
      "cell_type": "code",
      "execution_count": 10,
      "metadata": {
        "id": "4Z-v4SB9bdZk"
      },
      "outputs": [],
      "source": [
        "train_images = np.loadtxt('./data/train_images.txt')\n",
        "train_labels = np.int32(np.loadtxt('./data/train_labels.txt'))\n",
        "\n",
        "test_images = np.loadtxt('./data/test_images.txt')\n",
        "test_labels = np.int32(np.loadtxt('./data/test_labels.txt'))"
      ]
    },
    {
      "cell_type": "markdown",
      "metadata": {
        "id": "fMU4FdUuXhPR"
      },
      "source": [
        "# Execises"
      ]
    },
    {
      "cell_type": "code",
      "source": [
        "image = train_images[-1]\n",
        "image = np.reshape(image, (28, 28))\n",
        "plt.imshow(image.astype(np.uint8), cmap='gray')\n",
        "plt.show()"
      ],
      "metadata": {
        "colab": {
          "base_uri": "https://localhost:8080/",
          "height": 265
        },
        "id": "-T6sucPAwKlN",
        "outputId": "c222e992-9b70-42da-8729-999a38c7a4aa"
      },
      "execution_count": 14,
      "outputs": [
        {
          "output_type": "display_data",
          "data": {
            "image/png": "[encoded data removed]",
            "text/plain": [
              "<Figure size 432x288 with 1 Axes>"
            ]
          },
          "metadata": {
            "needs_background": "light"
          }
        }
      ]
    },
    {
      "cell_type": "code",
      "source": [
        "bins = np.linspace(0,256, num=5)"
      ],
      "metadata": {
        "id": "n-36lssaws0j"
      },
      "execution_count": 15,
      "outputs": []
    },
    {
      "cell_type": "code",
      "source": [
        "bins"
      ],
      "metadata": {
        "colab": {
          "base_uri": "https://localhost:8080/"
        },
        "id": "uQskdOAsy_1l",
        "outputId": "f190fda3-b76a-49e4-975e-8cc125122d55"
      },
      "execution_count": 16,
      "outputs": [
        {
          "output_type": "execute_result",
          "data": {
            "text/plain": [
              "array([  0.,  64., 128., 192., 256.])"
            ]
          },
          "metadata": {},
          "execution_count": 16
        }
      ]
    },
    {
      "cell_type": "code",
      "source": [
        "np.digitize(np.array([[0, 255]]), bins)"
      ],
      "metadata": {
        "colab": {
          "base_uri": "https://localhost:8080/"
        },
        "id": "hzcELf6JzBxl",
        "outputId": "30c77f54-6b65-46ea-c964-6b5bbb7bbacb"
      },
      "execution_count": 17,
      "outputs": [
        {
          "output_type": "execute_result",
          "data": {
            "text/plain": [
              "array([[1, 4]])"
            ]
          },
          "metadata": {},
          "execution_count": 17
        }
      ]
    },
    {
      "cell_type": "code",
      "source": [
        "def values_to_bins(x, bins):\n",
        "  return np.digitize(x, bins) - 1"
      ],
      "metadata": {
        "id": "pHxH1JV9zKpt"
      },
      "execution_count": 35,
      "outputs": []
    },
    {
      "cell_type": "code",
      "source": [
        "bins = np.linspace(0, 256, num=5)\n",
        "train_images_bins = values_to_bins(train_images, bins)\n",
        "test_images_bins = values_to_bins(test_images, bins)"
      ],
      "metadata": {
        "id": "bxRznHZ_0Fuo"
      },
      "execution_count": 41,
      "outputs": []
    },
    {
      "cell_type": "code",
      "source": [
        "train_images_bins.max()"
      ],
      "metadata": {
        "colab": {
          "base_uri": "https://localhost:8080/"
        },
        "id": "w5XQFX020cU2",
        "outputId": "69e1b209-cd30-4870-999a-f93a37ad9cd4"
      },
      "execution_count": 42,
      "outputs": [
        {
          "output_type": "execute_result",
          "data": {
            "text/plain": [
              "3"
            ]
          },
          "metadata": {},
          "execution_count": 42
        }
      ]
    },
    {
      "cell_type": "code",
      "source": [
        "model = MultinomialNB()\n",
        "model.fit(train_images, train_labels)"
      ],
      "metadata": {
        "colab": {
          "base_uri": "https://localhost:8080/"
        },
        "id": "HfukP7wE0uja",
        "outputId": "3ae14653-c11f-44b3-d079-573f7f049082"
      },
      "execution_count": 43,
      "outputs": [
        {
          "output_type": "execute_result",
          "data": {
            "text/plain": [
              "MultinomialNB()"
            ]
          },
          "metadata": {},
          "execution_count": 43
        }
      ]
    },
    {
      "cell_type": "code",
      "source": [
        "predicted_labels = model.predict(test_images_bins)"
      ],
      "metadata": {
        "id": "HiEivDs200Ig"
      },
      "execution_count": 44,
      "outputs": []
    },
    {
      "cell_type": "code",
      "source": [
        "accuracy = np.mean(predicted_labels == test_labels)\n",
        "accuracy"
      ],
      "metadata": {
        "colab": {
          "base_uri": "https://localhost:8080/"
        },
        "id": "VAZhiJGd1B_S",
        "outputId": "47e9cbb5-13f6-478b-bae9-6eeaa81b363f"
      },
      "execution_count": 45,
      "outputs": [
        {
          "output_type": "execute_result",
          "data": {
            "text/plain": [
              "0.846"
            ]
          },
          "metadata": {},
          "execution_count": 45
        }
      ]
    },
    {
      "cell_type": "code",
      "source": [
        "accuracy2 = model.score(test_images_bins, test_labels)\n",
        "accuracy2"
      ],
      "metadata": {
        "colab": {
          "base_uri": "https://localhost:8080/"
        },
        "id": "5XFtaOXe1o4z",
        "outputId": "ace65c61-1eb4-4e93-9b0f-dc75c429cb2f"
      },
      "execution_count": 46,
      "outputs": [
        {
          "output_type": "execute_result",
          "data": {
            "text/plain": [
              "0.846"
            ]
          },
          "metadata": {},
          "execution_count": 46
        }
      ]
    },
    {
      "cell_type": "code",
      "source": [
        "for num_bins in [3, 5, 7, 9, 11]:\n",
        "  bins = np.linspace(0, 256, num=num_bins) \n",
        "  train_images_bins = values_to_bins(train_images, bins)\n",
        "  test_images_bins = values_to_bins(test_images, bins)\n",
        "  model = MultinomialNB()\n",
        "  model.fit(train_images_bins, train_labels)\n",
        "  accuracy = model.score(test_images, test_labels)\n",
        "  print('num bins = %d has accuracy %f' % (num_bins, accuracy))"
      ],
      "metadata": {
        "colab": {
          "base_uri": "https://localhost:8080/"
        },
        "id": "U-gfWymS1wGw",
        "outputId": "faab755a-a034-4f91-9446-e67d547b10f8"
      },
      "execution_count": 47,
      "outputs": [
        {
          "output_type": "stream",
          "name": "stdout",
          "text": [
            "num bins = 3 has accuracy 0.832000\n",
            "num bins = 5 has accuracy 0.842000\n",
            "num bins = 7 has accuracy 0.842000\n",
            "num bins = 9 has accuracy 0.842000\n",
            "num bins = 11 has accuracy 0.842000\n"
          ]
        }
      ]
    },
    {
      "cell_type": "code",
      "source": [
        "bins = np.linspace(0, 256, num=11) \n",
        "train_images_bins = values_to_bins(train_images, bins)\n",
        "test_images_bins = values_to_bins(test_images, bins)\n",
        "model = MultinomialNB()\n",
        "model.fit(train_images_bins, train_labels)\n",
        "predicted_labels = model.predict(test_images_bins)"
      ],
      "metadata": {
        "id": "m-YKLEUJ2OVr"
      },
      "execution_count": 48,
      "outputs": []
    },
    {
      "cell_type": "code",
      "source": [
        "misclassified_indices = np.where(test_labels != predicted_labels)[0]\n",
        "misclassified_indices"
      ],
      "metadata": {
        "colab": {
          "base_uri": "https://localhost:8080/"
        },
        "id": "_bA4jvPt2SXw",
        "outputId": "998f59bf-dc04-4afe-bbef-3f6f9a72e98b"
      },
      "execution_count": 49,
      "outputs": [
        {
          "output_type": "execute_result",
          "data": {
            "text/plain": [
              "array([  7,  13,  25,  33,  39,  42,  54,  63,  71,  75,  76,  80,  83,\n",
              "       109, 111, 115, 118, 124, 128, 141, 146, 147, 149, 150, 164, 165,\n",
              "       166, 171, 188, 191, 211, 213, 214, 215, 233, 235, 237, 241, 246,\n",
              "       256, 260, 261, 262, 271, 274, 281, 283, 304, 306, 326, 331, 334,\n",
              "       335, 336, 343, 354, 360, 365, 367, 372, 377, 384, 385, 386, 406,\n",
              "       416, 423, 430, 433, 439, 443, 446, 448, 457, 463, 489, 492, 493,\n",
              "       496])"
            ]
          },
          "metadata": {},
          "execution_count": 49
        }
      ]
    },
    {
      "cell_type": "code",
      "source": [
        "for idx in misclassified_indices[:10]:\n",
        "    img = test_images[idx].reshape(28, 28)\n",
        "    plt.imshow(img, cmap='gray')\n",
        "    plt.show()\n",
        "    print('Predicted labels = %d, Correct label = %d' % (predicted_labels[idx], test_labels[idx]))"
      ],
      "metadata": {
        "colab": {
          "base_uri": "https://localhost:8080/",
          "height": 1000
        },
        "id": "9SPVkJLS2mfn",
        "outputId": "e05d901b-6202-4808-e7b9-e50d436801b1"
      },
      "execution_count": 50,
      "outputs": [
        {
          "output_type": "display_data",
          "data": {
            "image/png": "[encoded data removed]",
            "text/plain": [
              "<Figure size 432x288 with 1 Axes>"
            ]
          },
          "metadata": {
            "needs_background": "light"
          }
        },
        {
          "output_type": "stream",
          "name": "stdout",
          "text": [
            "Predicted labels = 8, Correct label = 5\n"
          ]
        },
        {
          "output_type": "display_data",
          "data": {
            "image/png": "[encoded data removed]",
            "text/plain": [
              "<Figure size 432x288 with 1 Axes>"
            ]
          },
          "metadata": {
            "needs_background": "light"
          }
        },
        {
          "output_type": "stream",
          "name": "stdout",
          "text": [
            "Predicted labels = 0, Correct label = 6\n"
          ]
        },
        {
          "output_type": "display_data",
          "data": {
            "image/png": "[encoded data removed]",
            "text/plain": [
              "<Figure size 432x288 with 1 Axes>"
            ]
          },
          "metadata": {
            "needs_background": "light"
          }
        },
        {
          "output_type": "stream",
          "name": "stdout",
          "text": [
            "Predicted labels = 9, Correct label = 4\n"
          ]
        },
        {
          "output_type": "display_data",
          "data": {
            "image/png": "[encoded data removed]",
            "text/plain": [
              "<Figure size 432x288 with 1 Axes>"
            ]
          },
          "metadata": {
            "needs_background": "light"
          }
        },
        {
          "output_type": "stream",
          "name": "stdout",
          "text": [
            "Predicted labels = 9, Correct label = 7\n"
          ]
        },
        {
          "output_type": "display_data",
          "data": {
            "image/png": "[encoded data removed]",
            "text/plain": [
              "<Figure size 432x288 with 1 Axes>"
            ]
          },
          "metadata": {
            "needs_background": "light"
          }
        },
        {
          "output_type": "stream",
          "name": "stdout",
          "text": [
            "Predicted labels = 3, Correct label = 2\n"
          ]
        },
        {
          "output_type": "display_data",
          "data": {
            "image/png": "[encoded data removed]",
            "text/plain": [
              "<Figure size 432x288 with 1 Axes>"
            ]
          },
          "metadata": {
            "needs_background": "light"
          }
        },
        {
          "output_type": "stream",
          "name": "stdout",
          "text": [
            "Predicted labels = 8, Correct label = 1\n"
          ]
        },
        {
          "output_type": "display_data",
          "data": {
            "image/png": "[encoded data removed]",
            "text/plain": [
              "<Figure size 432x288 with 1 Axes>"
            ]
          },
          "metadata": {
            "needs_background": "light"
          }
        },
        {
          "output_type": "stream",
          "name": "stdout",
          "text": [
            "Predicted labels = 9, Correct label = 3\n"
          ]
        },
        {
          "output_type": "display_data",
          "data": {
            "image/png": "[encoded data removed]",
            "text/plain": [
              "<Figure size 432x288 with 1 Axes>"
            ]
          },
          "metadata": {
            "needs_background": "light"
          }
        },
        {
          "output_type": "stream",
          "name": "stdout",
          "text": [
            "Predicted labels = 8, Correct label = 1\n"
          ]
        },
        {
          "output_type": "display_data",
          "data": {
            "image/png": "[encoded data removed]",
            "text/plain": [
              "<Figure size 432x288 with 1 Axes>"
            ]
          },
          "metadata": {
            "needs_background": "light"
          }
        },
        {
          "output_type": "stream",
          "name": "stdout",
          "text": [
            "Predicted labels = 8, Correct label = 6\n"
          ]
        },
        {
          "output_type": "display_data",
          "data": {
            "image/png": "[encoded data removed]",
            "text/plain": [
              "<Figure size 432x288 with 1 Axes>"
            ]
          },
          "metadata": {
            "needs_background": "light"
          }
        },
        {
          "output_type": "stream",
          "name": "stdout",
          "text": [
            "Predicted labels = 4, Correct label = 9\n"
          ]
        }
      ]
    },
    {
      "cell_type": "code",
      "source": [
        "def confunsion_matrix(predicted_labels, ground_truth_labels):\n",
        "    num_labels = ground_truth_labels.max() + 1\n",
        "    conf_mat = np.zeros((num_labels, num_labels))\n",
        "    \n",
        "    for i in range(len(predicted_labels)):\n",
        "        conf_mat[ground_truth_labels[i], predicted_labels[i]] += 1\n",
        "    return  conf_mat\n",
        "    "
      ],
      "metadata": {
        "id": "xIrfqReL2umK"
      },
      "execution_count": 51,
      "outputs": []
    },
    {
      "cell_type": "code",
      "source": [
        "conf_mat = confunsion_matrix(predicted_labels, test_labels)"
      ],
      "metadata": {
        "id": "_yycsJyJGX9N"
      },
      "execution_count": 52,
      "outputs": []
    },
    {
      "cell_type": "code",
      "source": [
        "plt.imshow(conf_mat, cmap='gray')"
      ],
      "metadata": {
        "colab": {
          "base_uri": "https://localhost:8080/",
          "height": 282
        },
        "id": "jEdliSJmGZos",
        "outputId": "0174a383-3859-4921-bda0-2731fdb7b4da"
      },
      "execution_count": 53,
      "outputs": [
        {
          "output_type": "execute_result",
          "data": {
            "text/plain": [
              "<matplotlib.image.AxesImage at 0x7fa2c82a4c50>"
            ]
          },
          "metadata": {},
          "execution_count": 53
        },
        {
          "output_type": "display_data",
          "data": {
            "image/png": "[encoded data removed]",
            "text/plain": [
              "<Figure size 432x288 with 1 Axes>"
            ]
          },
          "metadata": {
            "needs_background": "light"
          }
        }
      ]
    }
  ],
  "metadata": {
    "colab": {
      "name": "lab2.ipynb",
      "provenance": []
    },
    "kernelspec": {
      "display_name": "Python 3 (ipykernel)",
      "language": "python",
      "name": "python3"
    },
    "language_info": {
      "codemirror_mode": {
        "name": "ipython",
        "version": 3
      },
      "file_extension": ".py",
      "mimetype": "text/x-python",
      "name": "python",
      "nbconvert_exporter": "python",
      "pygments_lexer": "ipython3",
      "version": "3.8.12"
    }
  },
  "nbformat": 4,
  "nbformat_minor": 0
}